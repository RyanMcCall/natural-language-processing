{
 "cells": [
  {
   "cell_type": "markdown",
   "metadata": {},
   "source": [
    "# Data Acquisition"
   ]
  },
  {
   "cell_type": "code",
   "execution_count": 1,
   "metadata": {},
   "outputs": [],
   "source": [
    "from requests import get\n",
    "from bs4 import BeautifulSoup\n",
    "import os\n",
    "\n",
    "import acquire_codeup_blog\n",
    "import acquire_news_articles"
   ]
  },
  {
   "cell_type": "markdown",
   "metadata": {},
   "source": [
    "## Codeup Blog Articles\n",
    "\n",
    "### Scrape the article text from the following pages:\n",
    "\n",
    "* https://codeup.com/codeups-data-science-career-accelerator-is-here/\n",
    "* https://codeup.com/codeups-data-science-career-accelerator-is-here/\n",
    "* https://codeup.com/data-science-myths/\n",
    "* https://codeup.com/data-science-vs-data-analytics-whats-the-difference/\n",
    "* https://codeup.com/10-tips-to-crush-it-at-the-sa-tech-job-fair/\n",
    "* https://codeup.com/competitor-bootcamps-are-closing-is-the-model-in-danger/\n",
    "\n",
    "### Encapsulate your work in a function named get_blog_articles that will return a list of dictionaries, with each dictionary representing one article. The shape of each dictionary should look like this:\n",
    "\n",
    "`{\n",
    "    'title': 'the title of the article',\n",
    "    'content': 'the full text content of the article'\n",
    "}`"
   ]
  },
  {
   "cell_type": "markdown",
   "metadata": {},
   "source": [
    "#### First let's find the info we want from just one link and then we can make a loop that will grab it for each article\n",
    "\n",
    "#### Let's start with text of the article"
   ]
  },
  {
   "cell_type": "code",
   "execution_count": 2,
   "metadata": {},
   "outputs": [],
   "source": [
    "url = 'https://codeup.com/codeups-data-science-career-accelerator-is-here/'\n",
    "headers = {'User-Agent': 'Codeup Data Science'}\n",
    "response = get(url, headers=headers)\n",
    "soup = BeautifulSoup(response.content, 'html.parser')"
   ]
  },
  {
   "cell_type": "code",
   "execution_count": 3,
   "metadata": {},
   "outputs": [
    {
     "data": {
      "text/plain": [
       "'The rumors are true! The time has arrived. Codeup has officially opened applications to our new Data Science career accelerator, with only 25 seats available! This immersive program is one of a kind in San Antonio, and will help you land a job in\\xa0Glassdoor’s #1 Best Job in America.Data Science is a method of providing actionable intelligence from data.\\xa0The data revolution has hit San Antonio,\\xa0resulting in an explosion in Data Scientist positions\\xa0across companies like USAA, Accenture, Booz Allen Hamilton, and HEB. We’ve even seen\\xa0UTSA invest $70 M for a Cybersecurity Center and School of Data Science.\\xa0We built a program to specifically meet the growing demands of this industry.Our program will be 18 weeks long, full-time, hands-on, and project-based. Our curriculum development and instruction is led by Senior Data Scientist, Maggie Giust, who has worked at HEB, Capital Group, and Rackspace, along with input from dozens of practitioners and hiring partners. Students will work with real data sets, realistic problems, and the entire data science pipeline from collection to deployment. They will receive professional development training in resume writing, interviewing, and continuing education to prepare for a smooth transition to the workforce.We focus on applied data science for immediate impact and ROI in a business, which is how we can back it all up with a 6 month tuition refund guarantee – just like our existing Web Dev program. We’re focusing on Data Science with Python, SQL, and ML, covered in\\xa014 modules: 1) Fundamentals; 2) Applied statistics; 3) SQL; 4) Python; 5) Supervised machine learning – regression; 6) Supervised machine learning – classification; 7) Unsupervised machine learning – clustering; 8) Time series analysis; 9) Anomaly detection; 10) Natural language processing; 11) Distributed machine learning; 12) Advanced topics (deep learning, NoSQL, cloud deployment, etc.); 13) Storytelling with data; and 14) Domain expertise development.Applications are now open\\xa0for Codeup’s first Data Science cohort, which will start class on February 4, 2019. Hurry – there are only 25 seats available! To further our mission of cultivating inclusive growth, scholarships will be available to women, minorities, LGBTQIA+ individuals, veterans, first responders, and people relocating to San Antonio.If you want to learn about joining our program or hiring our graduates, email datascience@codeup.com!'"
      ]
     },
     "execution_count": 3,
     "metadata": {},
     "output_type": "execute_result"
    }
   ],
   "source": [
    "article_text = soup.find('div', class_='jupiterx-post-content clearfix').text\n",
    "article_text"
   ]
  },
  {
   "cell_type": "markdown",
   "metadata": {},
   "source": [
    "#### Great we got the text. Now let's get the title"
   ]
  },
  {
   "cell_type": "code",
   "execution_count": 4,
   "metadata": {},
   "outputs": [
    {
     "data": {
      "text/plain": [
       "'Codeup’s Data Science Career Accelerator is Here!'"
      ]
     },
     "execution_count": 4,
     "metadata": {},
     "output_type": "execute_result"
    }
   ],
   "source": [
    "article_title = soup.find('h1', class_='jupiterx-post-title').text\n",
    "article_title"
   ]
  },
  {
   "cell_type": "markdown",
   "metadata": {},
   "source": [
    "### Now that we know how to get each element, let's loop through the articles and get everything into a list of dictionaries"
   ]
  },
  {
   "cell_type": "code",
   "execution_count": 5,
   "metadata": {},
   "outputs": [
    {
     "data": {
      "text/plain": [
       "[{'title': 'Codeup’s Data Science Career Accelerator is Here!',\n",
       "  'content': 'The rumors are true! The time has arrived. Codeup has officially opened applications to our new Data Science career accelerator, with only 25 seats available! This immersive program is one of a kind in San Antonio, and will help you land a job in\\xa0Glassdoor’s #1 Best Job in America.Data Science is a method of providing actionable intelligence from data.\\xa0The data revolution has hit San Antonio,\\xa0resulting in an explosion in Data Scientist positions\\xa0across companies like USAA, Accenture, Booz Allen Hamilton, and HEB. We’ve even seen\\xa0UTSA invest $70 M for a Cybersecurity Center and School of Data Science.\\xa0We built a program to specifically meet the growing demands of this industry.Our program will be 18 weeks long, full-time, hands-on, and project-based. Our curriculum development and instruction is led by Senior Data Scientist, Maggie Giust, who has worked at HEB, Capital Group, and Rackspace, along with input from dozens of practitioners and hiring partners. Students will work with real data sets, realistic problems, and the entire data science pipeline from collection to deployment. They will receive professional development training in resume writing, interviewing, and continuing education to prepare for a smooth transition to the workforce.We focus on applied data science for immediate impact and ROI in a business, which is how we can back it all up with a 6 month tuition refund guarantee – just like our existing Web Dev program. We’re focusing on Data Science with Python, SQL, and ML, covered in\\xa014 modules: 1) Fundamentals; 2) Applied statistics; 3) SQL; 4) Python; 5) Supervised machine learning – regression; 6) Supervised machine learning – classification; 7) Unsupervised machine learning – clustering; 8) Time series analysis; 9) Anomaly detection; 10) Natural language processing; 11) Distributed machine learning; 12) Advanced topics (deep learning, NoSQL, cloud deployment, etc.); 13) Storytelling with data; and 14) Domain expertise development.Applications are now open\\xa0for Codeup’s first Data Science cohort, which will start class on February 4, 2019. Hurry – there are only 25 seats available! To further our mission of cultivating inclusive growth, scholarships will be available to women, minorities, LGBTQIA+ individuals, veterans, first responders, and people relocating to San Antonio.If you want to learn about joining our program or hiring our graduates, email datascience@codeup.com!'},\n",
       " {'title': 'Data Science Myths',\n",
       "  'content': 'By Dimitri Antoniou and Maggie GiustData Science, Big Data, Machine Learning, NLP, Neural Networks…these buzzwords have rapidly spread into mainstream use over the last few years. Unfortunately, definitions are varied and sources of truth are limited. Data Scientists are in fact not magical unicorn wizards who can snap their fingers and turn a business around! Today, we’ll take a cue from our favorite Mythbusters to tackle some common myths and misconceptions in the field of Data Science.via GIPHYMyth #1: Data Science = StatisticsAt first glance, this one doesn’t sound unreasonable. Statistics is defined as, “A branch of mathematics dealing with the collection, analysis, interpretation, and presentation of masses of numerical data.” That sounds a lot like our definition of Data Science: a method of drawing actionable intelligence from data. In truth, statistics is actually one small piece of Data Science. As our Senior Data Scientist puts it, “Statistics forces us to make assumptions about the nature of the relationship between variables, the distribution of the data, etc.” In the traditional Data Science venn diagram, you’ll see that math/stats make up ⅓ of a working professional. These are tools and skills to leverage, but data science itself is about drawing intelligence from data.BUSTED via GIPHY\\xa0Myth #2: Data Scientist = Business/Data AnalystThis one is so common that we wrote a whole post about it! These are separate and different roles within the data field. While a data scientist will often do analytics, their spectrum of work is wider. A data analyst will use structured data to create dashboards and KPIs, while a Data Scientist deals with unstructured and messy data for a range of outputs. If they’re interested, business analysts will often progress to data scientists.BUSTEDvia GIPHY\\xa0Myth #3: Data Science = Data ScienceThis one’s tricky, because it’s impossible to either confirm or bust! The ‘myth’ is that one person or company using the term Data Science is not necessarily the same as another person or company using the same term. Depending on organizational capacity, individual experience, educational background, and many other variables, we might be using the same name for different animals.Tl;dr: don’t assume a common understanding across hiring managers, recruiters, and practitioners. Look instead for specifics of tools, techniques, methodologies, and outputs. That being said, this one falls in the “plausible” category, because it may actually be true in some circumstances, while false in others.PLAUSIBLEvia GIPHY\\xa0Myth #4: Data Science curricula are well-defined and consistent.We recommend checking this one out for yourself! A quick google search for bootcamps, master’s degree programs, and online courses will reveal that different organizations teach different things. There is no commonly accepted framework for teaching data science! Some focus more on the engineering, others focus more on machine learning, some think deep learning is foundational, and some prefer to use R. Our curriculum was built through employer interviews, practitioner interviews, market research, and company partnerships. But we’re based in San Antonio! A bootcamp in New York might follow the same process and end up with a different syllabus. Keep in mind, whatever your learning path, that there will be gaps in your learning. The most important thing is to recognize those gaps.BUSTEDvia GIPHY\\xa0Myth #5: If I want to be a data scientist, I just need to learn Python or R.This one is common and dangerous! Just like statistics, programming languages like Python and R are tools. They’re just pieces of a larger puzzle! Knowing Python without understanding the data science pipeline is like knowing how to build a floor without having a floor plan. Of course, these are valuable technical skills that give you a leg up, but they’re second in importance to asking the right questions, knowing what tools to use when, and communicating your findings.BUSTEDvia GIPHYStill have questions? Reach out to us at (210) 802-7289 or DataScience@codeup.com! Want to learn more about Data Science? Check out our recent blog posts at tribucodeup.wpengine.com/blog. And of course, if data science gets you excited, get started with us today at tribucodeup.wpengine.com/apply![rev_slider alias=”footer”][/rev_slider]'}]"
      ]
     },
     "execution_count": 5,
     "metadata": {},
     "output_type": "execute_result"
    }
   ],
   "source": [
    "links = ['https://codeup.com/codeups-data-science-career-accelerator-is-here/',\n",
    "'https://codeup.com/data-science-myths/',\n",
    "'https://codeup.com/data-science-vs-data-analytics-whats-the-difference/',\n",
    "'https://codeup.com/10-tips-to-crush-it-at-the-sa-tech-job-fair/',\n",
    "'https://codeup.com/competitor-bootcamps-are-closing-is-the-model-in-danger/']\n",
    "\n",
    "articles = []\n",
    "\n",
    "for link in links:\n",
    "    url = link\n",
    "    headers = {'User-Agent': 'Codeup Data Science'}\n",
    "    response = get(url, headers=headers)\n",
    "    soup = BeautifulSoup(response.content, 'html.parser')\n",
    "    \n",
    "    article_text = soup.find('div', class_='jupiterx-post-content clearfix').text\n",
    "    article_title = soup.find('h1', class_='jupiterx-post-title').text\n",
    "    \n",
    "    article_dict = {'title': article_title,\n",
    "                    'content': article_text}\n",
    "    articles.append(article_dict)\n",
    "\n",
    "articles[0:2]"
   ]
  },
  {
   "cell_type": "markdown",
   "metadata": {},
   "source": [
    "### Now let's put this all into another .py file."
   ]
  },
  {
   "cell_type": "code",
   "execution_count": 6,
   "metadata": {},
   "outputs": [
    {
     "data": {
      "text/plain": [
       "[{'title': 'Codeup’s Data Science Career Accelerator is Here!',\n",
       "  'content': 'The rumors are true! The time has arrived. Codeup has officially opened applications to our new Data Science career accelerator, with only 25 seats available! This immersive program is one of a kind in San Antonio, and will help you land a job in\\xa0Glassdoor’s #1 Best Job in America.Data Science is a method of providing actionable intelligence from data.\\xa0The data revolution has hit San Antonio,\\xa0resulting in an explosion in Data Scientist positions\\xa0across companies like USAA, Accenture, Booz Allen Hamilton, and HEB. We’ve even seen\\xa0UTSA invest $70 M for a Cybersecurity Center and School of Data Science.\\xa0We built a program to specifically meet the growing demands of this industry.Our program will be 18 weeks long, full-time, hands-on, and project-based. Our curriculum development and instruction is led by Senior Data Scientist, Maggie Giust, who has worked at HEB, Capital Group, and Rackspace, along with input from dozens of practitioners and hiring partners. Students will work with real data sets, realistic problems, and the entire data science pipeline from collection to deployment. They will receive professional development training in resume writing, interviewing, and continuing education to prepare for a smooth transition to the workforce.We focus on applied data science for immediate impact and ROI in a business, which is how we can back it all up with a 6 month tuition refund guarantee – just like our existing Web Dev program. We’re focusing on Data Science with Python, SQL, and ML, covered in\\xa014 modules: 1) Fundamentals; 2) Applied statistics; 3) SQL; 4) Python; 5) Supervised machine learning – regression; 6) Supervised machine learning – classification; 7) Unsupervised machine learning – clustering; 8) Time series analysis; 9) Anomaly detection; 10) Natural language processing; 11) Distributed machine learning; 12) Advanced topics (deep learning, NoSQL, cloud deployment, etc.); 13) Storytelling with data; and 14) Domain expertise development.Applications are now open\\xa0for Codeup’s first Data Science cohort, which will start class on February 4, 2019. Hurry – there are only 25 seats available! To further our mission of cultivating inclusive growth, scholarships will be available to women, minorities, LGBTQIA+ individuals, veterans, first responders, and people relocating to San Antonio.If you want to learn about joining our program or hiring our graduates, email datascience@codeup.com!'},\n",
       " {'title': 'Data Science Myths',\n",
       "  'content': 'By Dimitri Antoniou and Maggie GiustData Science, Big Data, Machine Learning, NLP, Neural Networks…these buzzwords have rapidly spread into mainstream use over the last few years. Unfortunately, definitions are varied and sources of truth are limited. Data Scientists are in fact not magical unicorn wizards who can snap their fingers and turn a business around! Today, we’ll take a cue from our favorite Mythbusters to tackle some common myths and misconceptions in the field of Data Science.via GIPHYMyth #1: Data Science = StatisticsAt first glance, this one doesn’t sound unreasonable. Statistics is defined as, “A branch of mathematics dealing with the collection, analysis, interpretation, and presentation of masses of numerical data.” That sounds a lot like our definition of Data Science: a method of drawing actionable intelligence from data. In truth, statistics is actually one small piece of Data Science. As our Senior Data Scientist puts it, “Statistics forces us to make assumptions about the nature of the relationship between variables, the distribution of the data, etc.” In the traditional Data Science venn diagram, you’ll see that math/stats make up ⅓ of a working professional. These are tools and skills to leverage, but data science itself is about drawing intelligence from data.BUSTED via GIPHY\\xa0Myth #2: Data Scientist = Business/Data AnalystThis one is so common that we wrote a whole post about it! These are separate and different roles within the data field. While a data scientist will often do analytics, their spectrum of work is wider. A data analyst will use structured data to create dashboards and KPIs, while a Data Scientist deals with unstructured and messy data for a range of outputs. If they’re interested, business analysts will often progress to data scientists.BUSTEDvia GIPHY\\xa0Myth #3: Data Science = Data ScienceThis one’s tricky, because it’s impossible to either confirm or bust! The ‘myth’ is that one person or company using the term Data Science is not necessarily the same as another person or company using the same term. Depending on organizational capacity, individual experience, educational background, and many other variables, we might be using the same name for different animals.Tl;dr: don’t assume a common understanding across hiring managers, recruiters, and practitioners. Look instead for specifics of tools, techniques, methodologies, and outputs. That being said, this one falls in the “plausible” category, because it may actually be true in some circumstances, while false in others.PLAUSIBLEvia GIPHY\\xa0Myth #4: Data Science curricula are well-defined and consistent.We recommend checking this one out for yourself! A quick google search for bootcamps, master’s degree programs, and online courses will reveal that different organizations teach different things. There is no commonly accepted framework for teaching data science! Some focus more on the engineering, others focus more on machine learning, some think deep learning is foundational, and some prefer to use R. Our curriculum was built through employer interviews, practitioner interviews, market research, and company partnerships. But we’re based in San Antonio! A bootcamp in New York might follow the same process and end up with a different syllabus. Keep in mind, whatever your learning path, that there will be gaps in your learning. The most important thing is to recognize those gaps.BUSTEDvia GIPHY\\xa0Myth #5: If I want to be a data scientist, I just need to learn Python or R.This one is common and dangerous! Just like statistics, programming languages like Python and R are tools. They’re just pieces of a larger puzzle! Knowing Python without understanding the data science pipeline is like knowing how to build a floor without having a floor plan. Of course, these are valuable technical skills that give you a leg up, but they’re second in importance to asking the right questions, knowing what tools to use when, and communicating your findings.BUSTEDvia GIPHYStill have questions? Reach out to us at (210) 802-7289 or DataScience@codeup.com! Want to learn more about Data Science? Check out our recent blog posts at tribucodeup.wpengine.com/blog. And of course, if data science gets you excited, get started with us today at tribucodeup.wpengine.com/apply![rev_slider alias=”footer”][/rev_slider]'}]"
      ]
     },
     "execution_count": 6,
     "metadata": {},
     "output_type": "execute_result"
    }
   ],
   "source": [
    "acquire_codeup_blog.get_blog_articles()[0:2]"
   ]
  },
  {
   "cell_type": "markdown",
   "metadata": {},
   "source": [
    "## News Articles\n",
    "\n",
    "### We will now be scraping text data from [inshorts](https://inshorts.com/), a website that provides a brief overview of many different topics.\n",
    "\n",
    "### Write a function that scrapes the news articles for the following topics:\n",
    "\n",
    "* Business\n",
    "* Sports\n",
    "* Technology\n",
    "* Entertainment\n",
    "\n",
    "### The end product of this should be a function named get_news_articles that returns a list of dictionaries, where each dictionary has this shape:\n",
    "\n",
    "`{\n",
    "    'title': 'The article title',\n",
    "    'content': 'The article content',\n",
    "    'category': 'business' # for example\n",
    "}`\n",
    "\n",
    "#### So first we will start with the home page"
   ]
  },
  {
   "cell_type": "code",
   "execution_count": 7,
   "metadata": {},
   "outputs": [],
   "source": [
    "url = 'https://inshorts.com/en/read'\n",
    "response = get(url)\n",
    "soup = BeautifulSoup(response.content, 'html.parser')"
   ]
  },
  {
   "cell_type": "markdown",
   "metadata": {},
   "source": [
    "### Let's get the headlines for the articles first"
   ]
  },
  {
   "cell_type": "code",
   "execution_count": 8,
   "metadata": {},
   "outputs": [
    {
     "data": {
      "text/plain": [
       "[<span itemprop=\"headline\">Ravi Mohan Saini, who won ₹1 cr in KBC Junior at 14, becomes SP of Porbandar</span>,\n",
       " <span itemprop=\"headline\">BookMyShow fires, sends staff on leave without pay; 270 employees impacted</span>,\n",
       " <span itemprop=\"headline\">Karnataka government bans flights from 5 states amid rising coronavirus cases</span>,\n",
       " <span itemprop=\"headline\">36-day-old baby recovers from COVID-19 in Mumbai; CMO shares video</span>,\n",
       " <span itemprop=\"headline\">23-yr-old eats 40 rotis, 10-plate rice at quarantine centre; cook says he's tired</span>,\n",
       " <span itemprop=\"headline\">Coronavirus vaccines being developed by 30 groups in India, 20 in good pace: Govt</span>,\n",
       " <span itemprop=\"headline\">This will be a Big Day for Social Media and Fairness: Trump</span>,\n",
       " <span itemprop=\"headline\">Delhi govt issues advisory to prevent probable locust attack</span>,\n",
       " <span itemprop=\"headline\">BJP spokesperson Sambit Patra hospitalised with coronavirus symptoms: Reports</span>,\n",
       " <span itemprop=\"headline\">My all-time favourite film is 'Hum Aapke...', my family also loves it: Madhuri</span>,\n",
       " <span itemprop=\"headline\">Digital rights of 'Laxmmi Bomb' sold for ₹125 crore: Reports</span>,\n",
       " <span itemprop=\"headline\">Henry Cavill in talks to return as Superman in upcoming DC film: Reports</span>,\n",
       " <span itemprop=\"headline\">Will always be a common man: Sonu Sood after woman compares him to Rajinikanth</span>,\n",
       " <span itemprop=\"headline\">Japan adds India, 10 others to entry ban list amid COVID-19 pandemic</span>,\n",
       " <span itemprop=\"headline\">Air India employee unions ask govt for ₹50,000 crore financial package</span>,\n",
       " <span itemprop=\"headline\">Pak reports 2,076 new COVID-19 cases, total cases exceed 61,000</span>,\n",
       " <span itemprop=\"headline\">COVID-19 could push 1.4 cr into hunger in Latin America: UNWFP</span>,\n",
       " <span itemprop=\"headline\">New WhatsApp scam asking for users' verification codes: Report</span>,\n",
       " <span itemprop=\"headline\">'Hack-for-hire' firms in India targeting business leaders: Google</span>,\n",
       " <span itemprop=\"headline\">Amazon to offer permanent jobs to 70% of 175,000 US staff hired temporarily</span>,\n",
       " <span itemprop=\"headline\">Didn't fire anyone for speaking about Amazon's working conditions: Bezos</span>,\n",
       " <span itemprop=\"headline\">US ends sanctions waivers for projects related to 2015 Iran nuclear deal</span>,\n",
       " <span itemprop=\"headline\">Cruel blow to citizens: Chidambaram after govt stops 7.75% RBI Bond scheme</span>,\n",
       " <span itemprop=\"headline\">Patanjali's ₹250 cr NCD issue fully subscribed within 3 minutes of opening</span>,\n",
       " <span itemprop=\"headline\">NTPC looking to buy Reliance Group's Delhi power distribution units</span>]"
      ]
     },
     "execution_count": 8,
     "metadata": {},
     "output_type": "execute_result"
    }
   ],
   "source": [
    "headlines = soup.find_all('span', itemprop='headline')\n",
    "headlines"
   ]
  },
  {
   "cell_type": "markdown",
   "metadata": {},
   "source": [
    "#### Now if we want to get just one element we can pull it from the list"
   ]
  },
  {
   "cell_type": "code",
   "execution_count": 9,
   "metadata": {},
   "outputs": [
    {
     "data": {
      "text/plain": [
       "'Ravi Mohan Saini, who won ₹1 cr in KBC Junior at 14, becomes SP of Porbandar'"
      ]
     },
     "execution_count": 9,
     "metadata": {},
     "output_type": "execute_result"
    }
   ],
   "source": [
    "headlines[0].text"
   ]
  },
  {
   "cell_type": "markdown",
   "metadata": {},
   "source": [
    "#### Now let's get the content for each article"
   ]
  },
  {
   "cell_type": "code",
   "execution_count": 10,
   "metadata": {},
   "outputs": [
    {
     "data": {
      "text/plain": [
       "[<div itemprop=\"articleBody\">IPS officer Ravi Mohan Saini, who won ₹1 crore in KBC Junior when he was 14 years old, took charge as Superintendent of Police, Porbandar, Gujarat on Tuesday. Saini, who is now 33 years old, qualified for Indian Police Service in 2014 with AIR 461. A native of Rajasthan's Alwar, Saini is the son of a retired Navy officer.</div>,\n",
       " <div itemprop=\"articleBody\">BookMyShow's Founder and CEO Ashish Hemrajani in an e-mail to employees said the company is firing and furloughing (leave without pay) 270 employees. \"To those leaving us, I'm truly sorry for this decision,\" Hemrajani said. Fired employees will get severance equivalent to a minimum of 2 months' salary irrespective of their tenure or as per notice period, whichever is higher.</div>]"
      ]
     },
     "execution_count": 10,
     "metadata": {},
     "output_type": "execute_result"
    }
   ],
   "source": [
    "contents = soup.find_all('div', itemprop='articleBody')\n",
    "contents[:2]"
   ]
  },
  {
   "cell_type": "markdown",
   "metadata": {},
   "source": [
    "#### Again we can pull out each on individually"
   ]
  },
  {
   "cell_type": "code",
   "execution_count": 11,
   "metadata": {},
   "outputs": [
    {
     "data": {
      "text/plain": [
       "\"IPS officer Ravi Mohan Saini, who won ₹1 crore in KBC Junior when he was 14 years old, took charge as Superintendent of Police, Porbandar, Gujarat on Tuesday. Saini, who is now 33 years old, qualified for Indian Police Service in 2014 with AIR 461. A native of Rajasthan's Alwar, Saini is the son of a retired Navy officer.\""
      ]
     },
     "execution_count": 11,
     "metadata": {},
     "output_type": "execute_result"
    }
   ],
   "source": [
    "contents[0].text"
   ]
  },
  {
   "cell_type": "markdown",
   "metadata": {},
   "source": [
    "### Now we should be able to build a look that gets combines each piece"
   ]
  },
  {
   "cell_type": "code",
   "execution_count": 12,
   "metadata": {},
   "outputs": [
    {
     "data": {
      "text/plain": [
       "[{'title': 'Ravi Mohan Saini, who won ₹1 cr in KBC Junior at 14, becomes SP of Porbandar',\n",
       "  'content': \"IPS officer Ravi Mohan Saini, who won ₹1 crore in KBC Junior when he was 14 years old, took charge as Superintendent of Police, Porbandar, Gujarat on Tuesday. Saini, who is now 33 years old, qualified for Indian Police Service in 2014 with AIR 461. A native of Rajasthan's Alwar, Saini is the son of a retired Navy officer.\",\n",
       "  'catagory': 'home'},\n",
       " {'title': 'BookMyShow fires, sends staff on leave without pay; 270 employees impacted',\n",
       "  'content': 'BookMyShow\\'s Founder and CEO Ashish Hemrajani in an e-mail to employees said the company is firing and furloughing (leave without pay) 270 employees. \"To those leaving us, I\\'m truly sorry for this decision,\" Hemrajani said. Fired employees will get severance equivalent to a minimum of 2 months\\' salary irrespective of their tenure or as per notice period, whichever is higher.',\n",
       "  'catagory': 'home'}]"
      ]
     },
     "execution_count": 12,
     "metadata": {},
     "output_type": "execute_result"
    }
   ],
   "source": [
    "articles = []\n",
    "\n",
    "for n in range(len(headlines)):\n",
    "    article = {'title': headlines[n].text,\n",
    "              'content': contents[n].text,\n",
    "              'catagory': 'home'}\n",
    "    articles.append(article)\n",
    "\n",
    "articles[:2]"
   ]
  },
  {
   "cell_type": "markdown",
   "metadata": {},
   "source": [
    "### Now we are going to have to collect all the articles from three different pages so we will have to change the url for each page."
   ]
  },
  {
   "cell_type": "code",
   "execution_count": 13,
   "metadata": {},
   "outputs": [
    {
     "data": {
      "text/plain": [
       "[{'title': 'Twitter CEO donates $10M to project giving $1,000 cash to COVID-19 hit families',\n",
       "  'content': \"Twitter's billionaire CEO Jack Dorsey has donated $10 million to Project 100 which will give $1,000 in cash to American families who have been affected by the COVID-19 pandemic. Other donors to Project 100 include Alphabet and Google CEO Sundar Pichai, Microsoft Co-founder Bill Gates and others. Dorsey also donated $10 million this month to help US prison fight COVID-19.\",\n",
       "  'catagory': 'business'},\n",
       " {'title': \"US firm buys Serum Institute parent's Czech unit to make Covid-19 vaccine\",\n",
       "  'content': \"US biotech firm Novavax has announced it's buying Czech Republic-based Praha Vaccines, a unit of Cyrus Poonawalla Group, which also owns Serum Institute of India, for ₹1,270 crore. The facility is expected to provide an annual capacity of over 1 billion doses of antigen starting in 2021 for Novavax's Covid-19 vaccine candidate. Novavax currently has no product on the market.\",\n",
       "  'catagory': 'business'}]"
      ]
     },
     "execution_count": 13,
     "metadata": {},
     "output_type": "execute_result"
    }
   ],
   "source": [
    "pages = ['/business', '/sports', '/technology','/entertainment']\n",
    "\n",
    "articles = []\n",
    "\n",
    "for page in pages:\n",
    "    url = 'https://inshorts.com/en/read' + page\n",
    "    response = get(url)\n",
    "    soup = BeautifulSoup(response.content, 'html.parser')\n",
    "    \n",
    "    headlines = soup.find_all('span', itemprop='headline')\n",
    "    contents = soup.find_all('div', itemprop='articleBody')\n",
    "    \n",
    "    for n in range(len(headlines)):\n",
    "        article = {'title': headlines[n].text,\n",
    "                  'content': contents[n].text,\n",
    "                  'catagory': page[1:]}\n",
    "        articles.append(article)\n",
    "\n",
    "articles[:2]"
   ]
  },
  {
   "cell_type": "markdown",
   "metadata": {},
   "source": [
    "### Now let put it into a .py file"
   ]
  },
  {
   "cell_type": "code",
   "execution_count": 14,
   "metadata": {},
   "outputs": [
    {
     "data": {
      "text/html": [
       "<div>\n",
       "<style scoped>\n",
       "    .dataframe tbody tr th:only-of-type {\n",
       "        vertical-align: middle;\n",
       "    }\n",
       "\n",
       "    .dataframe tbody tr th {\n",
       "        vertical-align: top;\n",
       "    }\n",
       "\n",
       "    .dataframe thead th {\n",
       "        text-align: right;\n",
       "    }\n",
       "</style>\n",
       "<table border=\"1\" class=\"dataframe\">\n",
       "  <thead>\n",
       "    <tr style=\"text-align: right;\">\n",
       "      <th></th>\n",
       "      <th>Unnamed: 0</th>\n",
       "      <th>title</th>\n",
       "      <th>content</th>\n",
       "      <th>catagory</th>\n",
       "    </tr>\n",
       "  </thead>\n",
       "  <tbody>\n",
       "    <tr>\n",
       "      <th>0</th>\n",
       "      <td>0</td>\n",
       "      <td>Twitter CEO donates $10M to project giving $1,...</td>\n",
       "      <td>Twitter's billionaire CEO Jack Dorsey has dona...</td>\n",
       "      <td>business</td>\n",
       "    </tr>\n",
       "    <tr>\n",
       "      <th>1</th>\n",
       "      <td>1</td>\n",
       "      <td>US firm buys Serum Institute parent's Czech un...</td>\n",
       "      <td>US biotech firm Novavax has announced it's buy...</td>\n",
       "      <td>business</td>\n",
       "    </tr>\n",
       "    <tr>\n",
       "      <th>2</th>\n",
       "      <td>2</td>\n",
       "      <td>25-year-old Anant Ambani joins $65 billion Jio...</td>\n",
       "      <td>Asia's richest person Mukesh Ambani's 25-year-...</td>\n",
       "      <td>business</td>\n",
       "    </tr>\n",
       "    <tr>\n",
       "      <th>3</th>\n",
       "      <td>3</td>\n",
       "      <td>Google in talks to buy 5% stake in Vodafone Id...</td>\n",
       "      <td>Google is exploring an investment in Vodafone ...</td>\n",
       "      <td>business</td>\n",
       "    </tr>\n",
       "    <tr>\n",
       "      <th>4</th>\n",
       "      <td>4</td>\n",
       "      <td>Microsoft in talks to buy 2.5% stake in Jio fo...</td>\n",
       "      <td>Microsoft is in talks with Mukesh Ambani-led R...</td>\n",
       "      <td>business</td>\n",
       "    </tr>\n",
       "    <tr>\n",
       "      <th>...</th>\n",
       "      <td>...</td>\n",
       "      <td>...</td>\n",
       "      <td>...</td>\n",
       "      <td>...</td>\n",
       "    </tr>\n",
       "    <tr>\n",
       "      <th>95</th>\n",
       "      <td>95</td>\n",
       "      <td>Digital rights of 'Laxmmi Bomb' sold for ₹125 ...</td>\n",
       "      <td>The makers of Akshay Kumar's 'Laxmmi Bomb' hav...</td>\n",
       "      <td>entertainment</td>\n",
       "    </tr>\n",
       "    <tr>\n",
       "      <th>96</th>\n",
       "      <td>96</td>\n",
       "      <td>Neither good nor bad times last, even coronavi...</td>\n",
       "      <td>Commenting on COVID-19 pandemic, singer Asha B...</td>\n",
       "      <td>entertainment</td>\n",
       "    </tr>\n",
       "    <tr>\n",
       "      <th>97</th>\n",
       "      <td>97</td>\n",
       "      <td>Complaint against cinematographer Shyam K Naid...</td>\n",
       "      <td>A complaint of cheating has been filed against...</td>\n",
       "      <td>entertainment</td>\n",
       "    </tr>\n",
       "    <tr>\n",
       "      <th>98</th>\n",
       "      <td>98</td>\n",
       "      <td>SRK's KKR announces relief packages for cities...</td>\n",
       "      <td>Shah Rukh Khan's IPL team Kolkata Knight Rider...</td>\n",
       "      <td>entertainment</td>\n",
       "    </tr>\n",
       "    <tr>\n",
       "      <th>99</th>\n",
       "      <td>99</td>\n",
       "      <td>Apple secures deal for Scorsese's next with Di...</td>\n",
       "      <td>Apple has secured a deal for Hollywood directo...</td>\n",
       "      <td>entertainment</td>\n",
       "    </tr>\n",
       "  </tbody>\n",
       "</table>\n",
       "<p>100 rows × 4 columns</p>\n",
       "</div>"
      ],
      "text/plain": [
       "    Unnamed: 0                                              title  \\\n",
       "0            0  Twitter CEO donates $10M to project giving $1,...   \n",
       "1            1  US firm buys Serum Institute parent's Czech un...   \n",
       "2            2  25-year-old Anant Ambani joins $65 billion Jio...   \n",
       "3            3  Google in talks to buy 5% stake in Vodafone Id...   \n",
       "4            4  Microsoft in talks to buy 2.5% stake in Jio fo...   \n",
       "..         ...                                                ...   \n",
       "95          95  Digital rights of 'Laxmmi Bomb' sold for ₹125 ...   \n",
       "96          96  Neither good nor bad times last, even coronavi...   \n",
       "97          97  Complaint against cinematographer Shyam K Naid...   \n",
       "98          98  SRK's KKR announces relief packages for cities...   \n",
       "99          99  Apple secures deal for Scorsese's next with Di...   \n",
       "\n",
       "                                              content       catagory  \n",
       "0   Twitter's billionaire CEO Jack Dorsey has dona...       business  \n",
       "1   US biotech firm Novavax has announced it's buy...       business  \n",
       "2   Asia's richest person Mukesh Ambani's 25-year-...       business  \n",
       "3   Google is exploring an investment in Vodafone ...       business  \n",
       "4   Microsoft is in talks with Mukesh Ambani-led R...       business  \n",
       "..                                                ...            ...  \n",
       "95  The makers of Akshay Kumar's 'Laxmmi Bomb' hav...  entertainment  \n",
       "96  Commenting on COVID-19 pandemic, singer Asha B...  entertainment  \n",
       "97  A complaint of cheating has been filed against...  entertainment  \n",
       "98  Shah Rukh Khan's IPL team Kolkata Knight Rider...  entertainment  \n",
       "99  Apple has secured a deal for Hollywood directo...  entertainment  \n",
       "\n",
       "[100 rows x 4 columns]"
      ]
     },
     "execution_count": 14,
     "metadata": {},
     "output_type": "execute_result"
    }
   ],
   "source": [
    "acquire_news_articles.get_news_articles()"
   ]
  },
  {
   "cell_type": "markdown",
   "metadata": {},
   "source": [
    "## Bonus:\n",
    "\n",
    "Scrape the text of all the articles linked on codeup's blog page."
   ]
  },
  {
   "cell_type": "code",
   "execution_count": 15,
   "metadata": {},
   "outputs": [
    {
     "data": {
      "text/plain": [
       "['https://codeup.com/bootcamp-to-bootcamp/',\n",
       " 'https://codeup.com/how-to-get-started-on-a-programming-exercise/']"
      ]
     },
     "execution_count": 15,
     "metadata": {},
     "output_type": "execute_result"
    }
   ],
   "source": [
    "url = 'https://codeup.com/resources/#blog'\n",
    "headers = {'User-Agent': 'Codeup Data Science'}\n",
    "response = get(url, headers=headers)\n",
    "soup = BeautifulSoup(response.content, 'html.parser')\n",
    "\n",
    "links = []\n",
    "\n",
    "for a in soup.find_all('a', class_='jet-listing-dynamic-link__link', href=True):\n",
    "    links.append(a['href'])\n",
    "\n",
    "links[:2]"
   ]
  },
  {
   "cell_type": "code",
   "execution_count": 16,
   "metadata": {},
   "outputs": [
    {
     "data": {
      "text/plain": [
       "[{'title': 'From Bootcamp to Bootcamp: Two Military Veterans Discuss Their Transition Into Tech',\n",
       "  'content': 'Are you a veteran or active-duty military member considering your next steps? Our alumni have been in your boots. In a recent virtual panel, two vets discussed their transition into technology careers with Codeup: Benny Fields III, a retired Air Force Master Sergeant turned Full Stack Web Developer, and Jeffery Roeder, a Navy Intelligence Analyst turned Data Scientist. Whether you’re interested in Data Science or Web Development, here are some key takeaways from the event.\\xa0Why Codeup?“The GI Bill was a huge plus, but the icing on the cake was the placement program.” – Benny FieldsAfter retiring from the Air Force, Benny Fields took a job as a technical writer, but he quickly became more interested in the software he was writing about than the writing itself. His friend suggested looking into a coding bootcamp, which he did. He liked that Codeup accepts the GI Bill and the icing on the cake for him was learning about the work our student placement team does to get you hired.What does Codeup’s Student Placement Team do?“They’ll give you every imaginable tool to get placed. They have tons of connections- it’s crazy. Colleges aren’t gonna do that for you.” – Jeff RoederWe’ll buff up your resume, set up mock interviews, and give you the know-how to nail your interviews and get a job offer. From how to dress, to what to say in a thank you letter, Jeff said it best: we’ll give you every imaginable tool to get placed in a new career. And it’s backed up by our tuition refund.\\xa0How did you pass the technical assessments during the application process?\\xa0“They basically tailored their workshop to me. That’s the kinda stuff that Codeup’s gonna do, they’ll get you there!” – Jeff RoederJeff Roeder heard about Data Science classes at Codeup from a friend who had seen our “crazy billboards” (one of which features Benny). He’s a former intelligence analyst, but the admissions process wasn’t entirely a breeze for him. After studying and studying, Python just wasn’t clicking, and he failed one of his technical assessments. He was about to give up on it, but our admissions team wasn’t ready to give up on him. We personally invited him to one of our Saturday workshops where we taught him step by step how to build the foundation he needed.\\xa0How does your military experience relate to your experience at Codeup?“They were like ‘hey, you’re gonna learn Spanish and you only have six months to do it,’ which is much like going to Codeup to learn something new, you only have six months to do it.” – Jeff RoederWhen Jeff first joined the Navy as a linguist, he was told to learn Spanish in six months. When he joined Codeup, he was told to learn Data Science in five months. They were both immersive experiences where people of different personalities and different cultures joined together for a common goal. As Jeff put it, you may not always like someone or relate to them, but you need each other to accomplish what needs to get done.“Coming to Codeup, I had to be flexible because I had to learn to adapt to new technologies with new people that were way younger than me and were catching on faster.” – Benny FieldsFor Benny, one similarity is that in the Air Force, you have to be flexible. He was used to having a planned day and changing it at the drop of a hat. In the tech field, things are always changing, and flexibility and constant learning are essential. This is where the military flexibility really came in handy for him.Jeff and Benny may have completed different Codeup programs but they both had the same journey from bootcamp to bootcamp. Both failed their technical assessments at first and had to leverage our resources to get through the admissions process. They both worked with our financial aid team to use their VA benefits for the course, and they both left Codeup with a job and a new skillset. Mission accomplished.\\xa0If you’re looking for your next step and want to learn more about using VA benefits to attend Codeup, talk with our team today! And don’t miss our next virtual event – check out our calendar at codeup.com/events!'},\n",
       " {'title': 'How to Get Started On Any Programming Exercise',\n",
       "  'content': 'Programming is hard. Whether you’re just beginning to learn or you’ve been programming for years, you’re going to run into roadblocks and get stuck. Our Data Science Instructor, Ryan Orsinger, has seen 36 cohorts of students come through Codeup and helped build their problem-solving skills through live, audience-centered lectures. Check out his recipe for success below:Scenario:You’re learning to code, learning the syntax for a programming language, and working on thinking programmatically. The lesson or lecture is completed and now you’re now facing a programming problem that is expecting you to understand and apply the new content.How do you get started?\\xa0Here’s your algorithm for getting started:1. With intent, read the curriculum and the code examples.2. Go back and deliberately read the example code very closely and slowly.3. Copy any example code into your editor.Identify the pieces of syntax that you recognize.Identify the code for the new concept that you’re working with.Ask yourself how the syntax or concepts you know already support and connect with the new topic or new syntax. Often, the new is relatable in terms of the old.Ask yourself questions about the code exampleWhat is this entire code example supposed to do?What piece of the language is this new concept?Is the new code a new piece of syntax? Or is it an existing piece of syntax?4. Run the example code5. Observe results. Think about each piece of code. What is it doing, what did you expect it to do?6. Try modifying the example code so that you change variables to see different results (one at a time…)If the example code demonstrates how to make a loop from 0 to 9: – Modify the code to make a loop that starts at 1 and ends at 10. – Modify the code to make a loop that starts at 10 and counts down to 0.7. Try removing as many moving pieces from the code for the new concept as possible… try to isolate a unit of work that uses the new concept and test it in isolation8. Read the first exercise problem. Read it slowly, with attention to detail.9. Ask yourself questions about the exercise:Can you explain or restate the problem in plain English?Are you able to write down the steps from problem to solution in English, without using any code?Break the exercise down into pieces. Each piece is either something you’ve seen or it’s new.Given the concept for this lesson, identify which part of the exercise uses the new topicFor the new piece, what is similar between the exercise code and the example code for the lesson?10. Work to write code for a smaller problem than the exercise asks. If the exercise says: – Prompt the user for a number between 1 and 50 – If the input is not numeric or out of that range, ask them again for a number. Repeat until they give a number between 1 and 50. – Start by making sure you’re able to prompt a user, then store the result of prompt to a variable for later. – Go after the low-hanging fruit first. Momentum begets momentum.11. If you’re still having problems and stuck, go to step 1.12. If friction, confusion, and “writer’s block” persist, then ask for help from another human being. Explain the steps you’ve already taken, and attempt to ask your question as clearly as possible. Here’s a good resource on how to ask effective questions!\\xa0Ryan Orsinger is a proud instructor here at Codeup. Check out his personal blog for more insightful information here!\\xa0\\xa0\\xa0\\xa0If you were inspired by this article and have any questions about our programs, give us a call.\\xa0We’d love to chat.'}]"
      ]
     },
     "execution_count": 16,
     "metadata": {},
     "output_type": "execute_result"
    }
   ],
   "source": [
    "articles = []\n",
    "\n",
    "for link in links:\n",
    "    headers = {'User-Agent': 'Codeup Data Science'}\n",
    "    response = get(link, headers=headers)\n",
    "    soup = BeautifulSoup(response.content, 'html.parser')\n",
    "    \n",
    "    article_text = soup.find('div', class_='jupiterx-post-content clearfix').text\n",
    "    article_title = soup.find('h1', class_='jupiterx-post-title').text\n",
    "\n",
    "    article_dict = {'title': article_title,\n",
    "                    'content': article_text}\n",
    "    \n",
    "    articles.append(article_dict)\n",
    "\n",
    "articles[:2]"
   ]
  },
  {
   "cell_type": "code",
   "execution_count": 17,
   "metadata": {},
   "outputs": [
    {
     "data": {
      "text/html": [
       "<div>\n",
       "<style scoped>\n",
       "    .dataframe tbody tr th:only-of-type {\n",
       "        vertical-align: middle;\n",
       "    }\n",
       "\n",
       "    .dataframe tbody tr th {\n",
       "        vertical-align: top;\n",
       "    }\n",
       "\n",
       "    .dataframe thead th {\n",
       "        text-align: right;\n",
       "    }\n",
       "</style>\n",
       "<table border=\"1\" class=\"dataframe\">\n",
       "  <thead>\n",
       "    <tr style=\"text-align: right;\">\n",
       "      <th></th>\n",
       "      <th>Unnamed: 0</th>\n",
       "      <th>title</th>\n",
       "      <th>content</th>\n",
       "    </tr>\n",
       "  </thead>\n",
       "  <tbody>\n",
       "    <tr>\n",
       "      <th>0</th>\n",
       "      <td>0</td>\n",
       "      <td>From Bootcamp to Bootcamp: Two Military Vetera...</td>\n",
       "      <td>Are you a veteran or active-duty military memb...</td>\n",
       "    </tr>\n",
       "    <tr>\n",
       "      <th>1</th>\n",
       "      <td>1</td>\n",
       "      <td>How to Get Started On Any Programming Exercise</td>\n",
       "      <td>Programming is hard. Whether you’re just begin...</td>\n",
       "    </tr>\n",
       "    <tr>\n",
       "      <th>2</th>\n",
       "      <td>2</td>\n",
       "      <td>The Best Path to a Career in Data Science</td>\n",
       "      <td>In our blog, “The Best Path To A Career In Sof...</td>\n",
       "    </tr>\n",
       "    <tr>\n",
       "      <th>3</th>\n",
       "      <td>3</td>\n",
       "      <td>Getting Hired in a Remote Environment</td>\n",
       "      <td>As a career accelerator with a tuition refund ...</td>\n",
       "    </tr>\n",
       "    <tr>\n",
       "      <th>4</th>\n",
       "      <td>4</td>\n",
       "      <td>The Remote Codeup Student Experience</td>\n",
       "      <td>Communities across Texas have now lived in a r...</td>\n",
       "    </tr>\n",
       "    <tr>\n",
       "      <th>...</th>\n",
       "      <td>...</td>\n",
       "      <td>...</td>\n",
       "      <td>...</td>\n",
       "    </tr>\n",
       "    <tr>\n",
       "      <th>94</th>\n",
       "      <td>94</td>\n",
       "      <td>Press Release: Free Learn to Code Bootcamp for...</td>\n",
       "      <td>Press Release: Free Learn to Code Bootcamp for...</td>\n",
       "    </tr>\n",
       "    <tr>\n",
       "      <th>95</th>\n",
       "      <td>95</td>\n",
       "      <td>What The SA Tech Job Fair Says About San Antonio</td>\n",
       "      <td>What The SA Tech Job Fair Says About San Anton...</td>\n",
       "    </tr>\n",
       "    <tr>\n",
       "      <th>96</th>\n",
       "      <td>96</td>\n",
       "      <td>Why Choose Codeup?</td>\n",
       "      <td>Why Choose Codeup?Prospective students sometim...</td>\n",
       "    </tr>\n",
       "    <tr>\n",
       "      <th>97</th>\n",
       "      <td>97</td>\n",
       "      <td>Use Your Texas Unemployment Benefits at Codeup</td>\n",
       "      <td>Use Your Texas Unemployment Benefits at Codeup...</td>\n",
       "    </tr>\n",
       "    <tr>\n",
       "      <th>98</th>\n",
       "      <td>98</td>\n",
       "      <td>Q&amp;A with Luis Martinez, Director of Entreprene...</td>\n",
       "      <td>Q&amp;A with Luis Martinez, Director of Entreprene...</td>\n",
       "    </tr>\n",
       "  </tbody>\n",
       "</table>\n",
       "<p>99 rows × 3 columns</p>\n",
       "</div>"
      ],
      "text/plain": [
       "    Unnamed: 0                                              title  \\\n",
       "0            0  From Bootcamp to Bootcamp: Two Military Vetera...   \n",
       "1            1     How to Get Started On Any Programming Exercise   \n",
       "2            2          The Best Path to a Career in Data Science   \n",
       "3            3              Getting Hired in a Remote Environment   \n",
       "4            4               The Remote Codeup Student Experience   \n",
       "..         ...                                                ...   \n",
       "94          94  Press Release: Free Learn to Code Bootcamp for...   \n",
       "95          95   What The SA Tech Job Fair Says About San Antonio   \n",
       "96          96                                 Why Choose Codeup?   \n",
       "97          97     Use Your Texas Unemployment Benefits at Codeup   \n",
       "98          98  Q&A with Luis Martinez, Director of Entreprene...   \n",
       "\n",
       "                                              content  \n",
       "0   Are you a veteran or active-duty military memb...  \n",
       "1   Programming is hard. Whether you’re just begin...  \n",
       "2   In our blog, “The Best Path To A Career In Sof...  \n",
       "3   As a career accelerator with a tuition refund ...  \n",
       "4   Communities across Texas have now lived in a r...  \n",
       "..                                                ...  \n",
       "94  Press Release: Free Learn to Code Bootcamp for...  \n",
       "95  What The SA Tech Job Fair Says About San Anton...  \n",
       "96  Why Choose Codeup?Prospective students sometim...  \n",
       "97  Use Your Texas Unemployment Benefits at Codeup...  \n",
       "98  Q&A with Luis Martinez, Director of Entreprene...  \n",
       "\n",
       "[99 rows x 3 columns]"
      ]
     },
     "execution_count": 17,
     "metadata": {},
     "output_type": "execute_result"
    }
   ],
   "source": [
    "acquire_codeup_blog.get_all_blog_articles()"
   ]
  }
 ],
 "metadata": {
  "kernelspec": {
   "display_name": "Python 3",
   "language": "python",
   "name": "python3"
  },
  "language_info": {
   "codemirror_mode": {
    "name": "ipython",
    "version": 3
   },
   "file_extension": ".py",
   "mimetype": "text/x-python",
   "name": "python",
   "nbconvert_exporter": "python",
   "pygments_lexer": "ipython3",
   "version": "3.7.4"
  }
 },
 "nbformat": 4,
 "nbformat_minor": 4
}
