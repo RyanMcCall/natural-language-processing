{
 "cells": [
  {
   "cell_type": "markdown",
   "metadata": {},
   "source": [
    "# Data Preparation"
   ]
  },
  {
   "cell_type": "code",
   "execution_count": 1,
   "metadata": {},
   "outputs": [],
   "source": [
    "import unicodedata\n",
    "import re\n",
    "import json\n",
    "\n",
    "import nltk\n",
    "from nltk.tokenize.toktok import ToktokTokenizer\n",
    "from nltk.corpus import stopwords\n",
    "\n",
    "import pandas as pd\n",
    "\n",
    "import acquire"
   ]
  },
  {
   "cell_type": "markdown",
   "metadata": {},
   "source": [
    "## Define a function named basic_clean. It should take in a string and apply some basic text cleaning to it:\n",
    "\n",
    "* Lowercase everything\n",
    "* Normalize unicode characters\n",
    "* Replace anything that is not a letter, number, whitespace or a single quote."
   ]
  },
  {
   "cell_type": "code",
   "execution_count": 2,
   "metadata": {},
   "outputs": [
    {
     "data": {
      "text/html": [
       "<div>\n",
       "<style scoped>\n",
       "    .dataframe tbody tr th:only-of-type {\n",
       "        vertical-align: middle;\n",
       "    }\n",
       "\n",
       "    .dataframe tbody tr th {\n",
       "        vertical-align: top;\n",
       "    }\n",
       "\n",
       "    .dataframe thead th {\n",
       "        text-align: right;\n",
       "    }\n",
       "</style>\n",
       "<table border=\"1\" class=\"dataframe\">\n",
       "  <thead>\n",
       "    <tr style=\"text-align: right;\">\n",
       "      <th></th>\n",
       "      <th>title</th>\n",
       "      <th>content</th>\n",
       "    </tr>\n",
       "  </thead>\n",
       "  <tbody>\n",
       "    <tr>\n",
       "      <th>0</th>\n",
       "      <td>From Bootcamp to Bootcamp: Two Military Vetera...</td>\n",
       "      <td>Are you a veteran or active-duty military memb...</td>\n",
       "    </tr>\n",
       "    <tr>\n",
       "      <th>1</th>\n",
       "      <td>How to Get Started On Any Programming Exercise</td>\n",
       "      <td>Programming is hard. Whether you’re just begin...</td>\n",
       "    </tr>\n",
       "    <tr>\n",
       "      <th>2</th>\n",
       "      <td>The Best Path to a Career in Data Science</td>\n",
       "      <td>In our blog, “The Best Path To A Career In Sof...</td>\n",
       "    </tr>\n",
       "    <tr>\n",
       "      <th>3</th>\n",
       "      <td>Getting Hired in a Remote Environment</td>\n",
       "      <td>As a career accelerator with a tuition refund ...</td>\n",
       "    </tr>\n",
       "    <tr>\n",
       "      <th>4</th>\n",
       "      <td>The Remote Codeup Student Experience</td>\n",
       "      <td>Communities across Texas have now lived in a r...</td>\n",
       "    </tr>\n",
       "    <tr>\n",
       "      <th>...</th>\n",
       "      <td>...</td>\n",
       "      <td>...</td>\n",
       "    </tr>\n",
       "    <tr>\n",
       "      <th>94</th>\n",
       "      <td>Press Release: Free Learn to Code Bootcamp for...</td>\n",
       "      <td>Press Release: Free Learn to Code Bootcamp for...</td>\n",
       "    </tr>\n",
       "    <tr>\n",
       "      <th>95</th>\n",
       "      <td>What The SA Tech Job Fair Says About San Antonio</td>\n",
       "      <td>What The SA Tech Job Fair Says About San Anton...</td>\n",
       "    </tr>\n",
       "    <tr>\n",
       "      <th>96</th>\n",
       "      <td>Why Choose Codeup?</td>\n",
       "      <td>Why Choose Codeup?Prospective students sometim...</td>\n",
       "    </tr>\n",
       "    <tr>\n",
       "      <th>97</th>\n",
       "      <td>Use Your Texas Unemployment Benefits at Codeup</td>\n",
       "      <td>Use Your Texas Unemployment Benefits at Codeup...</td>\n",
       "    </tr>\n",
       "    <tr>\n",
       "      <th>98</th>\n",
       "      <td>Q&amp;A with Luis Martinez, Director of Entreprene...</td>\n",
       "      <td>Q&amp;A with Luis Martinez, Director of Entreprene...</td>\n",
       "    </tr>\n",
       "  </tbody>\n",
       "</table>\n",
       "<p>99 rows × 2 columns</p>\n",
       "</div>"
      ],
      "text/plain": [
       "                                                title  \\\n",
       "0   From Bootcamp to Bootcamp: Two Military Vetera...   \n",
       "1      How to Get Started On Any Programming Exercise   \n",
       "2           The Best Path to a Career in Data Science   \n",
       "3               Getting Hired in a Remote Environment   \n",
       "4                The Remote Codeup Student Experience   \n",
       "..                                                ...   \n",
       "94  Press Release: Free Learn to Code Bootcamp for...   \n",
       "95   What The SA Tech Job Fair Says About San Antonio   \n",
       "96                                 Why Choose Codeup?   \n",
       "97     Use Your Texas Unemployment Benefits at Codeup   \n",
       "98  Q&A with Luis Martinez, Director of Entreprene...   \n",
       "\n",
       "                                              content  \n",
       "0   Are you a veteran or active-duty military memb...  \n",
       "1   Programming is hard. Whether you’re just begin...  \n",
       "2   In our blog, “The Best Path To A Career In Sof...  \n",
       "3   As a career accelerator with a tuition refund ...  \n",
       "4   Communities across Texas have now lived in a r...  \n",
       "..                                                ...  \n",
       "94  Press Release: Free Learn to Code Bootcamp for...  \n",
       "95  What The SA Tech Job Fair Says About San Anton...  \n",
       "96  Why Choose Codeup?Prospective students sometim...  \n",
       "97  Use Your Texas Unemployment Benefits at Codeup...  \n",
       "98  Q&A with Luis Martinez, Director of Entreprene...  \n",
       "\n",
       "[99 rows x 2 columns]"
      ]
     },
     "execution_count": 2,
     "metadata": {},
     "output_type": "execute_result"
    }
   ],
   "source": [
    "blogs = acquire.get_all_blog_articles()\n",
    "blogs"
   ]
  },
  {
   "cell_type": "code",
   "execution_count": 3,
   "metadata": {},
   "outputs": [],
   "source": [
    "def basic_clean(string):\n",
    "    string = string.lower()\n",
    "    string = (unicodedata.normalize('NFKD', string)\n",
    "                         .encode('ascii', 'ignore')\n",
    "                         .decode('utf-8', 'ignore')\n",
    "             )\n",
    "    string = re.sub(r\"[^a-z0-9'\\s]\", '', string)\n",
    "    return string"
   ]
  },
  {
   "cell_type": "code",
   "execution_count": 4,
   "metadata": {},
   "outputs": [
    {
     "data": {
      "text/plain": [
       "'Are you a veteran or active-duty military member considering your next steps? Our alumni have been in your boots. In a recent virtual panel, two vets discussed their transition into technology careers with Codeup: Benny Fields III, a retired Air Force Master Sergeant turned Full Stack Web Developer, and Jeffery Roeder, a Navy Intelligence Analyst turned Data Scientist. Whether you’re interested in Data Science or Web Development, here are some key takeaways from the event.\\xa0Why Codeup?“The GI Bill was a huge plus, but the icing on the cake was the placement program.” – Benny FieldsAfter retiring from the Air Force, Benny Fields took a job as a technical writer, but he quickly became more interested in the software he was writing about than the writing itself. His friend suggested looking into a coding bootcamp, which he did. He liked that Codeup accepts the GI Bill and the icing on the cake for him was learning about the work our student placement team does to get you hired.What does Codeup’s Student Placement Team do?“They’ll give you every imaginable tool to get placed. They have tons of connections- it’s crazy. Colleges aren’t gonna do that for you.” – Jeff RoederWe’ll buff up your resume, set up mock interviews, and give you the know-how to nail your interviews and get a job offer. From how to dress, to what to say in a thank you letter, Jeff said it best: we’ll give you every imaginable tool to get placed in a new career. And it’s backed up by our tuition refund.\\xa0How did you pass the technical assessments during the application process?\\xa0“They basically tailored their workshop to me. That’s the kinda stuff that Codeup’s gonna do, they’ll get you there!” – Jeff RoederJeff Roeder heard about Data Science classes at Codeup from a friend who had seen our “crazy billboards” (one of which features Benny). He’s a former intelligence analyst, but the admissions process wasn’t entirely a breeze for him. After studying and studying, Python just wasn’t clicking, and he failed one of his technical assessments. He was about to give up on it, but our admissions team wasn’t ready to give up on him. We personally invited him to one of our Saturday workshops where we taught him step by step how to build the foundation he needed.\\xa0How does your military experience relate to your experience at Codeup?“They were like ‘hey, you’re gonna learn Spanish and you only have six months to do it,’ which is much like going to Codeup to learn something new, you only have six months to do it.” – Jeff RoederWhen Jeff first joined the Navy as a linguist, he was told to learn Spanish in six months. When he joined Codeup, he was told to learn Data Science in five months. They were both immersive experiences where people of different personalities and different cultures joined together for a common goal. As Jeff put it, you may not always like someone or relate to them, but you need each other to accomplish what needs to get done.“Coming to Codeup, I had to be flexible because I had to learn to adapt to new technologies with new people that were way younger than me and were catching on faster.” – Benny FieldsFor Benny, one similarity is that in the Air Force, you have to be flexible. He was used to having a planned day and changing it at the drop of a hat. In the tech field, things are always changing, and flexibility and constant learning are essential. This is where the military flexibility really came in handy for him.Jeff and Benny may have completed different Codeup programs but they both had the same journey from bootcamp to bootcamp. Both failed their technical assessments at first and had to leverage our resources to get through the admissions process. They both worked with our financial aid team to use their VA benefits for the course, and they both left Codeup with a job and a new skillset. Mission accomplished.\\xa0If you’re looking for your next step and want to learn more about using VA benefits to attend Codeup, talk with our team today! And don’t miss our next virtual event – check out our calendar at codeup.com/events!'"
      ]
     },
     "execution_count": 4,
     "metadata": {},
     "output_type": "execute_result"
    }
   ],
   "source": [
    "test = blogs.content[0]\n",
    "test"
   ]
  },
  {
   "cell_type": "code",
   "execution_count": 5,
   "metadata": {},
   "outputs": [
    {
     "data": {
      "text/plain": [
       "'are you a veteran or activeduty military member considering your next steps our alumni have been in your boots in a recent virtual panel two vets discussed their transition into technology careers with codeup benny fields iii a retired air force master sergeant turned full stack web developer and jeffery roeder a navy intelligence analyst turned data scientist whether youre interested in data science or web development here are some key takeaways from the event why codeupthe gi bill was a huge plus but the icing on the cake was the placement program  benny fieldsafter retiring from the air force benny fields took a job as a technical writer but he quickly became more interested in the software he was writing about than the writing itself his friend suggested looking into a coding bootcamp which he did he liked that codeup accepts the gi bill and the icing on the cake for him was learning about the work our student placement team does to get you hiredwhat does codeups student placement team dotheyll give you every imaginable tool to get placed they have tons of connections its crazy colleges arent gonna do that for you  jeff roederwell buff up your resume set up mock interviews and give you the knowhow to nail your interviews and get a job offer from how to dress to what to say in a thank you letter jeff said it best well give you every imaginable tool to get placed in a new career and its backed up by our tuition refund how did you pass the technical assessments during the application process they basically tailored their workshop to me thats the kinda stuff that codeups gonna do theyll get you there  jeff roederjeff roeder heard about data science classes at codeup from a friend who had seen our crazy billboards one of which features benny hes a former intelligence analyst but the admissions process wasnt entirely a breeze for him after studying and studying python just wasnt clicking and he failed one of his technical assessments he was about to give up on it but our admissions team wasnt ready to give up on him we personally invited him to one of our saturday workshops where we taught him step by step how to build the foundation he needed how does your military experience relate to your experience at codeupthey were like hey youre gonna learn spanish and you only have six months to do it which is much like going to codeup to learn something new you only have six months to do it  jeff roederwhen jeff first joined the navy as a linguist he was told to learn spanish in six months when he joined codeup he was told to learn data science in five months they were both immersive experiences where people of different personalities and different cultures joined together for a common goal as jeff put it you may not always like someone or relate to them but you need each other to accomplish what needs to get donecoming to codeup i had to be flexible because i had to learn to adapt to new technologies with new people that were way younger than me and were catching on faster  benny fieldsfor benny one similarity is that in the air force you have to be flexible he was used to having a planned day and changing it at the drop of a hat in the tech field things are always changing and flexibility and constant learning are essential this is where the military flexibility really came in handy for himjeff and benny may have completed different codeup programs but they both had the same journey from bootcamp to bootcamp both failed their technical assessments at first and had to leverage our resources to get through the admissions process they both worked with our financial aid team to use their va benefits for the course and they both left codeup with a job and a new skillset mission accomplished if youre looking for your next step and want to learn more about using va benefits to attend codeup talk with our team today and dont miss our next virtual event  check out our calendar at codeupcomevents'"
      ]
     },
     "execution_count": 5,
     "metadata": {},
     "output_type": "execute_result"
    }
   ],
   "source": [
    "basic_clean(test)"
   ]
  },
  {
   "cell_type": "markdown",
   "metadata": {},
   "source": [
    "## Define a function named tokenize. It should take in a string and tokenize all the words in the string."
   ]
  },
  {
   "cell_type": "code",
   "execution_count": 6,
   "metadata": {},
   "outputs": [],
   "source": [
    "def tokenize(string):\n",
    "    tokenizer = nltk.tokenize.ToktokTokenizer()\n",
    "    return tokenizer.tokenize(string, return_str=True)"
   ]
  },
  {
   "cell_type": "code",
   "execution_count": 7,
   "metadata": {},
   "outputs": [
    {
     "data": {
      "text/plain": [
       "'are you a veteran or activeduty military member considering your next steps our alumni have been in your boots in a recent virtual panel two vets discussed their transition into technology careers with codeup benny fields iii a retired air force master sergeant turned full stack web developer and jeffery roeder a navy intelligence analyst turned data scientist whether youre interested in data science or web development here are some key takeaways from the event why codeupthe gi bill was a huge plus but the icing on the cake was the placement program benny fieldsafter retiring from the air force benny fields took a job as a technical writer but he quickly became more interested in the software he was writing about than the writing itself his friend suggested looking into a coding bootcamp which he did he liked that codeup accepts the gi bill and the icing on the cake for him was learning about the work our student placement team does to get you hiredwhat does codeups student placement team dotheyll give you every imaginable tool to get placed they have tons of connections its crazy colleges arent gonna do that for you jeff roederwell buff up your resume set up mock interviews and give you the knowhow to nail your interviews and get a job offer from how to dress to what to say in a thank you letter jeff said it best well give you every imaginable tool to get placed in a new career and its backed up by our tuition refund how did you pass the technical assessments during the application process they basically tailored their workshop to me thats the kinda stuff that codeups gonna do theyll get you there jeff roederjeff roeder heard about data science classes at codeup from a friend who had seen our crazy billboards one of which features benny hes a former intelligence analyst but the admissions process wasnt entirely a breeze for him after studying and studying python just wasnt clicking and he failed one of his technical assessments he was about to give up on it but our admissions team wasnt ready to give up on him we personally invited him to one of our saturday workshops where we taught him step by step how to build the foundation he needed how does your military experience relate to your experience at codeupthey were like hey youre gonna learn spanish and you only have six months to do it which is much like going to codeup to learn something new you only have six months to do it jeff roederwhen jeff first joined the navy as a linguist he was told to learn spanish in six months when he joined codeup he was told to learn data science in five months they were both immersive experiences where people of different personalities and different cultures joined together for a common goal as jeff put it you may not always like someone or relate to them but you need each other to accomplish what needs to get donecoming to codeup i had to be flexible because i had to learn to adapt to new technologies with new people that were way younger than me and were catching on faster benny fieldsfor benny one similarity is that in the air force you have to be flexible he was used to having a planned day and changing it at the drop of a hat in the tech field things are always changing and flexibility and constant learning are essential this is where the military flexibility really came in handy for himjeff and benny may have completed different codeup programs but they both had the same journey from bootcamp to bootcamp both failed their technical assessments at first and had to leverage our resources to get through the admissions process they both worked with our financial aid team to use their va benefits for the course and they both left codeup with a job and a new skillset mission accomplished if youre looking for your next step and want to learn more about using va benefits to attend codeup talk with our team today and dont miss our next virtual event check out our calendar at codeupcomevents'"
      ]
     },
     "execution_count": 7,
     "metadata": {},
     "output_type": "execute_result"
    }
   ],
   "source": [
    "tokenize(basic_clean(test))"
   ]
  },
  {
   "cell_type": "markdown",
   "metadata": {},
   "source": [
    "## Define a function named stem. It should accept some text and return the text after applying stemming to all the words."
   ]
  },
  {
   "cell_type": "code",
   "execution_count": 8,
   "metadata": {},
   "outputs": [],
   "source": [
    "def stem(string):\n",
    "    ps = nltk.porter.PorterStemmer()\n",
    "    stems = [ps.stem(word) for word in string.split()]\n",
    "    return ' '.join(stems)"
   ]
  },
  {
   "cell_type": "code",
   "execution_count": 9,
   "metadata": {},
   "outputs": [
    {
     "data": {
      "text/plain": [
       "'are you a veteran or activeduti militari member consid your next step our alumni have been in your boot in a recent virtual panel two vet discuss their transit into technolog career with codeup benni field iii a retir air forc master sergeant turn full stack web develop and jefferi roeder a navi intellig analyst turn data scientist whether your interest in data scienc or web develop here are some key takeaway from the event whi codeupth gi bill wa a huge plu but the ice on the cake wa the placement program benni fieldsaft retir from the air forc benni field took a job as a technic writer but he quickli becam more interest in the softwar he wa write about than the write itself hi friend suggest look into a code bootcamp which he did he like that codeup accept the gi bill and the ice on the cake for him wa learn about the work our student placement team doe to get you hiredwhat doe codeup student placement team dotheyl give you everi imagin tool to get place they have ton of connect it crazi colleg arent gonna do that for you jeff roederwel buff up your resum set up mock interview and give you the knowhow to nail your interview and get a job offer from how to dress to what to say in a thank you letter jeff said it best well give you everi imagin tool to get place in a new career and it back up by our tuition refund how did you pass the technic assess dure the applic process they basic tailor their workshop to me that the kinda stuff that codeup gonna do theyll get you there jeff roederjeff roeder heard about data scienc class at codeup from a friend who had seen our crazi billboard one of which featur benni he a former intellig analyst but the admiss process wasnt entir a breez for him after studi and studi python just wasnt click and he fail one of hi technic assess he wa about to give up on it but our admiss team wasnt readi to give up on him we person invit him to one of our saturday workshop where we taught him step by step how to build the foundat he need how doe your militari experi relat to your experi at codeupthey were like hey your gonna learn spanish and you onli have six month to do it which is much like go to codeup to learn someth new you onli have six month to do it jeff roederwhen jeff first join the navi as a linguist he wa told to learn spanish in six month when he join codeup he wa told to learn data scienc in five month they were both immers experi where peopl of differ person and differ cultur join togeth for a common goal as jeff put it you may not alway like someon or relat to them but you need each other to accomplish what need to get donecom to codeup i had to be flexibl becaus i had to learn to adapt to new technolog with new peopl that were way younger than me and were catch on faster benni fieldsfor benni one similar is that in the air forc you have to be flexibl he wa use to have a plan day and chang it at the drop of a hat in the tech field thing are alway chang and flexibl and constant learn are essenti thi is where the militari flexibl realli came in handi for himjeff and benni may have complet differ codeup program but they both had the same journey from bootcamp to bootcamp both fail their technic assess at first and had to leverag our resourc to get through the admiss process they both work with our financi aid team to use their va benefit for the cours and they both left codeup with a job and a new skillset mission accomplish if your look for your next step and want to learn more about use va benefit to attend codeup talk with our team today and dont miss our next virtual event check out our calendar at codeupcomev'"
      ]
     },
     "execution_count": 9,
     "metadata": {},
     "output_type": "execute_result"
    }
   ],
   "source": [
    "stem(tokenize(basic_clean(test)))"
   ]
  },
  {
   "cell_type": "markdown",
   "metadata": {},
   "source": [
    "## Define a function named lemmatize. It should accept some text and return the text after applying lemmatization to each word."
   ]
  },
  {
   "cell_type": "code",
   "execution_count": 10,
   "metadata": {},
   "outputs": [],
   "source": [
    "def lemmatize(string):\n",
    "    wnl = nltk.stem.WordNetLemmatizer()\n",
    "    lemmas = [wnl.lemmatize(word) for word in string.split()]\n",
    "    return ' '.join(lemmas)"
   ]
  },
  {
   "cell_type": "code",
   "execution_count": 11,
   "metadata": {},
   "outputs": [
    {
     "data": {
      "text/plain": [
       "'are you a veteran or activeduty military member considering your next step our alumnus have been in your boot in a recent virtual panel two vet discussed their transition into technology career with codeup benny field iii a retired air force master sergeant turned full stack web developer and jeffery roeder a navy intelligence analyst turned data scientist whether youre interested in data science or web development here are some key takeaway from the event why codeupthe gi bill wa a huge plus but the icing on the cake wa the placement program benny fieldsafter retiring from the air force benny field took a job a a technical writer but he quickly became more interested in the software he wa writing about than the writing itself his friend suggested looking into a coding bootcamp which he did he liked that codeup accepts the gi bill and the icing on the cake for him wa learning about the work our student placement team doe to get you hiredwhat doe codeups student placement team dotheyll give you every imaginable tool to get placed they have ton of connection it crazy college arent gonna do that for you jeff roederwell buff up your resume set up mock interview and give you the knowhow to nail your interview and get a job offer from how to dress to what to say in a thank you letter jeff said it best well give you every imaginable tool to get placed in a new career and it backed up by our tuition refund how did you pas the technical assessment during the application process they basically tailored their workshop to me thats the kinda stuff that codeups gonna do theyll get you there jeff roederjeff roeder heard about data science class at codeup from a friend who had seen our crazy billboard one of which feature benny he a former intelligence analyst but the admission process wasnt entirely a breeze for him after studying and studying python just wasnt clicking and he failed one of his technical assessment he wa about to give up on it but our admission team wasnt ready to give up on him we personally invited him to one of our saturday workshop where we taught him step by step how to build the foundation he needed how doe your military experience relate to your experience at codeupthey were like hey youre gonna learn spanish and you only have six month to do it which is much like going to codeup to learn something new you only have six month to do it jeff roederwhen jeff first joined the navy a a linguist he wa told to learn spanish in six month when he joined codeup he wa told to learn data science in five month they were both immersive experience where people of different personality and different culture joined together for a common goal a jeff put it you may not always like someone or relate to them but you need each other to accomplish what need to get donecoming to codeup i had to be flexible because i had to learn to adapt to new technology with new people that were way younger than me and were catching on faster benny fieldsfor benny one similarity is that in the air force you have to be flexible he wa used to having a planned day and changing it at the drop of a hat in the tech field thing are always changing and flexibility and constant learning are essential this is where the military flexibility really came in handy for himjeff and benny may have completed different codeup program but they both had the same journey from bootcamp to bootcamp both failed their technical assessment at first and had to leverage our resource to get through the admission process they both worked with our financial aid team to use their va benefit for the course and they both left codeup with a job and a new skillset mission accomplished if youre looking for your next step and want to learn more about using va benefit to attend codeup talk with our team today and dont miss our next virtual event check out our calendar at codeupcomevents'"
      ]
     },
     "execution_count": 11,
     "metadata": {},
     "output_type": "execute_result"
    }
   ],
   "source": [
    "lemmatize(tokenize(basic_clean(test)))"
   ]
  },
  {
   "cell_type": "markdown",
   "metadata": {},
   "source": [
    "## Define a function named remove_stopwords. It should accept some text and return the text after removing all the stopwords.\n",
    "\n",
    "## This function should define two optional parameters, extra_words and exclude_words. These parameters should define any additional stop words to include, and any words that we don't want to remove."
   ]
  },
  {
   "cell_type": "code",
   "execution_count": 12,
   "metadata": {},
   "outputs": [],
   "source": [
    "def remove_stopwords(string, extra_words=[], exclude_words=[]):\n",
    "    stopword_list = stopwords.words('english')\n",
    "    \n",
    "    for word in extra_words:\n",
    "        stopword_list.append(word)\n",
    "    \n",
    "    for word in exclude_words:\n",
    "        stopword_list.remove(word)\n",
    "        \n",
    "    words = string.split()\n",
    "    filtered_words = [word for word in words if word not in stopword_list]\n",
    "    return ' '.join(filtered_words)"
   ]
  },
  {
   "cell_type": "code",
   "execution_count": 13,
   "metadata": {},
   "outputs": [
    {
     "data": {
      "text/plain": [
       "'veteran activeduty military member considering next step alumnus boot recent virtual panel two vet discussed transition technology career codeup benny field iii retired air force master sergeant turned full stack web developer jeffery roeder navy intelligence analyst turned data scientist whether youre interested data science web development key takeaway event codeupthe gi bill wa huge plus icing cake wa placement program benny fieldsafter retiring air force benny field took job technical writer quickly became interested software wa writing writing friend suggested looking coding bootcamp liked codeup accepts gi bill icing cake wa learning work student placement team doe get hiredwhat doe codeups student placement team dotheyll give every imaginable tool get placed ton connection crazy college arent gonna jeff roederwell buff resume set mock interview give knowhow nail interview get job offer dress say thank letter jeff said best well give every imaginable tool get placed new career backed tuition refund pas technical assessment application process basically tailored workshop thats kinda stuff codeups gonna theyll get jeff roederjeff roeder heard data science class codeup friend seen crazy billboard one feature benny former intelligence analyst admission process wasnt entirely breeze studying studying python wasnt clicking failed one technical assessment wa give admission team wasnt ready give personally invited one saturday workshop taught step step build foundation needed doe military experience relate experience codeupthey like hey youre gonna learn spanish six month much like going codeup learn something new six month jeff roederwhen jeff first joined navy linguist wa told learn spanish six month joined codeup wa told learn data science five month immersive experience people different personality different culture joined together common goal jeff put may always like someone relate need accomplish need get donecoming codeup flexible learn adapt new technology new people way younger catching faster benny fieldsfor benny one similarity air force flexible wa used planned day changing drop hat tech field thing always changing flexibility constant learning essential military flexibility really came handy himjeff benny may completed different codeup program journey bootcamp bootcamp failed technical assessment first leverage resource get admission process worked financial aid team use va benefit course left codeup job new skillset mission accomplished youre looking next step want learn using va benefit attend codeup talk team today dont miss next virtual event check calendar codeupcomevents'"
      ]
     },
     "execution_count": 13,
     "metadata": {},
     "output_type": "execute_result"
    }
   ],
   "source": [
    "remove_stopwords(lemmatize(tokenize(basic_clean(test))))"
   ]
  },
  {
   "cell_type": "markdown",
   "metadata": {},
   "source": [
    "## Define a function named prepare_article_data that takes in the list of articles, applies the prep_article function to each one, and returns the transformed data."
   ]
  },
  {
   "cell_type": "code",
   "execution_count": 14,
   "metadata": {},
   "outputs": [
    {
     "data": {
      "text/html": [
       "<div>\n",
       "<style scoped>\n",
       "    .dataframe tbody tr th:only-of-type {\n",
       "        vertical-align: middle;\n",
       "    }\n",
       "\n",
       "    .dataframe tbody tr th {\n",
       "        vertical-align: top;\n",
       "    }\n",
       "\n",
       "    .dataframe thead th {\n",
       "        text-align: right;\n",
       "    }\n",
       "</style>\n",
       "<table border=\"1\" class=\"dataframe\">\n",
       "  <thead>\n",
       "    <tr style=\"text-align: right;\">\n",
       "      <th></th>\n",
       "      <th>title</th>\n",
       "      <th>content</th>\n",
       "    </tr>\n",
       "  </thead>\n",
       "  <tbody>\n",
       "    <tr>\n",
       "      <th>0</th>\n",
       "      <td>From Bootcamp to Bootcamp: Two Military Vetera...</td>\n",
       "      <td>Are you a veteran or active-duty military memb...</td>\n",
       "    </tr>\n",
       "    <tr>\n",
       "      <th>1</th>\n",
       "      <td>How to Get Started On Any Programming Exercise</td>\n",
       "      <td>Programming is hard. Whether you’re just begin...</td>\n",
       "    </tr>\n",
       "    <tr>\n",
       "      <th>2</th>\n",
       "      <td>The Best Path to a Career in Data Science</td>\n",
       "      <td>In our blog, “The Best Path To A Career In Sof...</td>\n",
       "    </tr>\n",
       "    <tr>\n",
       "      <th>3</th>\n",
       "      <td>Getting Hired in a Remote Environment</td>\n",
       "      <td>As a career accelerator with a tuition refund ...</td>\n",
       "    </tr>\n",
       "    <tr>\n",
       "      <th>4</th>\n",
       "      <td>The Remote Codeup Student Experience</td>\n",
       "      <td>Communities across Texas have now lived in a r...</td>\n",
       "    </tr>\n",
       "    <tr>\n",
       "      <th>...</th>\n",
       "      <td>...</td>\n",
       "      <td>...</td>\n",
       "    </tr>\n",
       "    <tr>\n",
       "      <th>94</th>\n",
       "      <td>Press Release: Free Learn to Code Bootcamp for...</td>\n",
       "      <td>Press Release: Free Learn to Code Bootcamp for...</td>\n",
       "    </tr>\n",
       "    <tr>\n",
       "      <th>95</th>\n",
       "      <td>What The SA Tech Job Fair Says About San Antonio</td>\n",
       "      <td>What The SA Tech Job Fair Says About San Anton...</td>\n",
       "    </tr>\n",
       "    <tr>\n",
       "      <th>96</th>\n",
       "      <td>Why Choose Codeup?</td>\n",
       "      <td>Why Choose Codeup?Prospective students sometim...</td>\n",
       "    </tr>\n",
       "    <tr>\n",
       "      <th>97</th>\n",
       "      <td>Use Your Texas Unemployment Benefits at Codeup</td>\n",
       "      <td>Use Your Texas Unemployment Benefits at Codeup...</td>\n",
       "    </tr>\n",
       "    <tr>\n",
       "      <th>98</th>\n",
       "      <td>Q&amp;A with Luis Martinez, Director of Entreprene...</td>\n",
       "      <td>Q&amp;A with Luis Martinez, Director of Entreprene...</td>\n",
       "    </tr>\n",
       "  </tbody>\n",
       "</table>\n",
       "<p>99 rows × 2 columns</p>\n",
       "</div>"
      ],
      "text/plain": [
       "                                                title  \\\n",
       "0   From Bootcamp to Bootcamp: Two Military Vetera...   \n",
       "1      How to Get Started On Any Programming Exercise   \n",
       "2           The Best Path to a Career in Data Science   \n",
       "3               Getting Hired in a Remote Environment   \n",
       "4                The Remote Codeup Student Experience   \n",
       "..                                                ...   \n",
       "94  Press Release: Free Learn to Code Bootcamp for...   \n",
       "95   What The SA Tech Job Fair Says About San Antonio   \n",
       "96                                 Why Choose Codeup?   \n",
       "97     Use Your Texas Unemployment Benefits at Codeup   \n",
       "98  Q&A with Luis Martinez, Director of Entreprene...   \n",
       "\n",
       "                                              content  \n",
       "0   Are you a veteran or active-duty military memb...  \n",
       "1   Programming is hard. Whether you’re just begin...  \n",
       "2   In our blog, “The Best Path To A Career In Sof...  \n",
       "3   As a career accelerator with a tuition refund ...  \n",
       "4   Communities across Texas have now lived in a r...  \n",
       "..                                                ...  \n",
       "94  Press Release: Free Learn to Code Bootcamp for...  \n",
       "95  What The SA Tech Job Fair Says About San Anton...  \n",
       "96  Why Choose Codeup?Prospective students sometim...  \n",
       "97  Use Your Texas Unemployment Benefits at Codeup...  \n",
       "98  Q&A with Luis Martinez, Director of Entreprene...  \n",
       "\n",
       "[99 rows x 2 columns]"
      ]
     },
     "execution_count": 14,
     "metadata": {},
     "output_type": "execute_result"
    }
   ],
   "source": [
    "blogs"
   ]
  },
  {
   "cell_type": "code",
   "execution_count": 22,
   "metadata": {},
   "outputs": [],
   "source": [
    "def prepare_article_data(df, column):\n",
    "    clean_tokens = df[column].apply(basic_clean).apply(tokenize)\n",
    "    df['stemmed'] = clean_tokens.apply(stem)\n",
    "    df['lemmatized'] = clean_tokens.apply(lemmatize)\n",
    "    df['clean'] = clean_tokens.apply(remove_stopwords)\n",
    "    return df"
   ]
  },
  {
   "cell_type": "code",
   "execution_count": 23,
   "metadata": {},
   "outputs": [
    {
     "data": {
      "text/html": [
       "<div>\n",
       "<style scoped>\n",
       "    .dataframe tbody tr th:only-of-type {\n",
       "        vertical-align: middle;\n",
       "    }\n",
       "\n",
       "    .dataframe tbody tr th {\n",
       "        vertical-align: top;\n",
       "    }\n",
       "\n",
       "    .dataframe thead th {\n",
       "        text-align: right;\n",
       "    }\n",
       "</style>\n",
       "<table border=\"1\" class=\"dataframe\">\n",
       "  <thead>\n",
       "    <tr style=\"text-align: right;\">\n",
       "      <th></th>\n",
       "      <th>title</th>\n",
       "      <th>content</th>\n",
       "      <th>stemmed</th>\n",
       "      <th>lemmatized</th>\n",
       "      <th>clean</th>\n",
       "    </tr>\n",
       "  </thead>\n",
       "  <tbody>\n",
       "    <tr>\n",
       "      <th>0</th>\n",
       "      <td>From Bootcamp to Bootcamp: Two Military Vetera...</td>\n",
       "      <td>Are you a veteran or active-duty military memb...</td>\n",
       "      <td>are you a veteran or activeduti militari membe...</td>\n",
       "      <td>are you a veteran or activeduty military membe...</td>\n",
       "      <td>veteran activeduty military member considering...</td>\n",
       "    </tr>\n",
       "    <tr>\n",
       "      <th>1</th>\n",
       "      <td>How to Get Started On Any Programming Exercise</td>\n",
       "      <td>Programming is hard. Whether you’re just begin...</td>\n",
       "      <td>program is hard whether your just begin to lea...</td>\n",
       "      <td>programming is hard whether youre just beginni...</td>\n",
       "      <td>programming hard whether youre beginning learn...</td>\n",
       "    </tr>\n",
       "    <tr>\n",
       "      <th>2</th>\n",
       "      <td>The Best Path to a Career in Data Science</td>\n",
       "      <td>In our blog, “The Best Path To A Career In Sof...</td>\n",
       "      <td>in our blog the best path to a career in softw...</td>\n",
       "      <td>in our blog the best path to a career in softw...</td>\n",
       "      <td>blog best path career software development loo...</td>\n",
       "    </tr>\n",
       "    <tr>\n",
       "      <th>3</th>\n",
       "      <td>Getting Hired in a Remote Environment</td>\n",
       "      <td>As a career accelerator with a tuition refund ...</td>\n",
       "      <td>as a career acceler with a tuition refund guar...</td>\n",
       "      <td>a a career accelerator with a tuition refund g...</td>\n",
       "      <td>career accelerator tuition refund guarantee al...</td>\n",
       "    </tr>\n",
       "    <tr>\n",
       "      <th>4</th>\n",
       "      <td>The Remote Codeup Student Experience</td>\n",
       "      <td>Communities across Texas have now lived in a r...</td>\n",
       "      <td>commun across texa have now live in a remot en...</td>\n",
       "      <td>community across texas have now lived in a rem...</td>\n",
       "      <td>communities across texas lived remote environm...</td>\n",
       "    </tr>\n",
       "    <tr>\n",
       "      <th>...</th>\n",
       "      <td>...</td>\n",
       "      <td>...</td>\n",
       "      <td>...</td>\n",
       "      <td>...</td>\n",
       "      <td>...</td>\n",
       "    </tr>\n",
       "    <tr>\n",
       "      <th>94</th>\n",
       "      <td>Press Release: Free Learn to Code Bootcamp for...</td>\n",
       "      <td>Press Release: Free Learn to Code Bootcamp for...</td>\n",
       "      <td>press releas free learn to code bootcamp for v...</td>\n",
       "      <td>press release free learn to code bootcamp for ...</td>\n",
       "      <td>press release free learn code bootcamp veteran...</td>\n",
       "    </tr>\n",
       "    <tr>\n",
       "      <th>95</th>\n",
       "      <td>What The SA Tech Job Fair Says About San Antonio</td>\n",
       "      <td>What The SA Tech Job Fair Says About San Anton...</td>\n",
       "      <td>what the sa tech job fair say about san antoni...</td>\n",
       "      <td>what the sa tech job fair say about san antoni...</td>\n",
       "      <td>sa tech job fair says san antonio last night c...</td>\n",
       "    </tr>\n",
       "    <tr>\n",
       "      <th>96</th>\n",
       "      <td>Why Choose Codeup?</td>\n",
       "      <td>Why Choose Codeup?Prospective students sometim...</td>\n",
       "      <td>whi choos codeupprospect student sometim ask a...</td>\n",
       "      <td>why choose codeupprospective student sometimes...</td>\n",
       "      <td>choose codeupprospective students sometimes as...</td>\n",
       "    </tr>\n",
       "    <tr>\n",
       "      <th>97</th>\n",
       "      <td>Use Your Texas Unemployment Benefits at Codeup</td>\n",
       "      <td>Use Your Texas Unemployment Benefits at Codeup...</td>\n",
       "      <td>use your texa unemploy benefit at codeupelig a...</td>\n",
       "      <td>use your texas unemployment benefit at codeupe...</td>\n",
       "      <td>use texas unemployment benefits codeupeligible...</td>\n",
       "    </tr>\n",
       "    <tr>\n",
       "      <th>98</th>\n",
       "      <td>Q&amp;A with Luis Martinez, Director of Entreprene...</td>\n",
       "      <td>Q&amp;A with Luis Martinez, Director of Entreprene...</td>\n",
       "      <td>qa with lui martinez director of entrepreneurs...</td>\n",
       "      <td>qa with luis martinez director of entrepreneur...</td>\n",
       "      <td>qa luis martinez director entrepreneurship tri...</td>\n",
       "    </tr>\n",
       "  </tbody>\n",
       "</table>\n",
       "<p>99 rows × 5 columns</p>\n",
       "</div>"
      ],
      "text/plain": [
       "                                                title  \\\n",
       "0   From Bootcamp to Bootcamp: Two Military Vetera...   \n",
       "1      How to Get Started On Any Programming Exercise   \n",
       "2           The Best Path to a Career in Data Science   \n",
       "3               Getting Hired in a Remote Environment   \n",
       "4                The Remote Codeup Student Experience   \n",
       "..                                                ...   \n",
       "94  Press Release: Free Learn to Code Bootcamp for...   \n",
       "95   What The SA Tech Job Fair Says About San Antonio   \n",
       "96                                 Why Choose Codeup?   \n",
       "97     Use Your Texas Unemployment Benefits at Codeup   \n",
       "98  Q&A with Luis Martinez, Director of Entreprene...   \n",
       "\n",
       "                                              content  \\\n",
       "0   Are you a veteran or active-duty military memb...   \n",
       "1   Programming is hard. Whether you’re just begin...   \n",
       "2   In our blog, “The Best Path To A Career In Sof...   \n",
       "3   As a career accelerator with a tuition refund ...   \n",
       "4   Communities across Texas have now lived in a r...   \n",
       "..                                                ...   \n",
       "94  Press Release: Free Learn to Code Bootcamp for...   \n",
       "95  What The SA Tech Job Fair Says About San Anton...   \n",
       "96  Why Choose Codeup?Prospective students sometim...   \n",
       "97  Use Your Texas Unemployment Benefits at Codeup...   \n",
       "98  Q&A with Luis Martinez, Director of Entreprene...   \n",
       "\n",
       "                                              stemmed  \\\n",
       "0   are you a veteran or activeduti militari membe...   \n",
       "1   program is hard whether your just begin to lea...   \n",
       "2   in our blog the best path to a career in softw...   \n",
       "3   as a career acceler with a tuition refund guar...   \n",
       "4   commun across texa have now live in a remot en...   \n",
       "..                                                ...   \n",
       "94  press releas free learn to code bootcamp for v...   \n",
       "95  what the sa tech job fair say about san antoni...   \n",
       "96  whi choos codeupprospect student sometim ask a...   \n",
       "97  use your texa unemploy benefit at codeupelig a...   \n",
       "98  qa with lui martinez director of entrepreneurs...   \n",
       "\n",
       "                                           lemmatized  \\\n",
       "0   are you a veteran or activeduty military membe...   \n",
       "1   programming is hard whether youre just beginni...   \n",
       "2   in our blog the best path to a career in softw...   \n",
       "3   a a career accelerator with a tuition refund g...   \n",
       "4   community across texas have now lived in a rem...   \n",
       "..                                                ...   \n",
       "94  press release free learn to code bootcamp for ...   \n",
       "95  what the sa tech job fair say about san antoni...   \n",
       "96  why choose codeupprospective student sometimes...   \n",
       "97  use your texas unemployment benefit at codeupe...   \n",
       "98  qa with luis martinez director of entrepreneur...   \n",
       "\n",
       "                                                clean  \n",
       "0   veteran activeduty military member considering...  \n",
       "1   programming hard whether youre beginning learn...  \n",
       "2   blog best path career software development loo...  \n",
       "3   career accelerator tuition refund guarantee al...  \n",
       "4   communities across texas lived remote environm...  \n",
       "..                                                ...  \n",
       "94  press release free learn code bootcamp veteran...  \n",
       "95  sa tech job fair says san antonio last night c...  \n",
       "96  choose codeupprospective students sometimes as...  \n",
       "97  use texas unemployment benefits codeupeligible...  \n",
       "98  qa luis martinez director entrepreneurship tri...  \n",
       "\n",
       "[99 rows x 5 columns]"
      ]
     },
     "execution_count": 23,
     "metadata": {},
     "output_type": "execute_result"
    }
   ],
   "source": [
    "prepare_article_data(blogs, 'content')"
   ]
  },
  {
   "cell_type": "code",
   "execution_count": null,
   "metadata": {},
   "outputs": [],
   "source": []
  }
 ],
 "metadata": {
  "kernelspec": {
   "display_name": "Python 3",
   "language": "python",
   "name": "python3"
  },
  "language_info": {
   "codemirror_mode": {
    "name": "ipython",
    "version": 3
   },
   "file_extension": ".py",
   "mimetype": "text/x-python",
   "name": "python",
   "nbconvert_exporter": "python",
   "pygments_lexer": "ipython3",
   "version": "3.7.4"
  }
 },
 "nbformat": 4,
 "nbformat_minor": 4
}
